{
  "nbformat": 4,
  "nbformat_minor": 0,
  "metadata": {
    "colab": {
      "name": "Airline Satisfaction Survey.ipynb",
      "provenance": [],
      "collapsed_sections": [
        "dA2eU57okLBo"
      ]
    },
    "kernelspec": {
      "display_name": "Python 3",
      "name": "python3"
    },
    "language_info": {
      "name": "python"
    }
  },
  "cells": [
    {
      "cell_type": "markdown",
      "metadata": {
        "id": "5U_RlUwKGKFH"
      },
      "source": [
        "## Background"
      ]
    },
    {
      "cell_type": "markdown",
      "metadata": {
        "id": "pvWSu3wddQ3W"
      },
      "source": [
        "| <font size=4>**Customer satisfaction classification** </font>|  .\n",
        ":|:\n",
        "|<font size=3>**The business problem:**</p>How can a US Airline company allocate</p>a given budget, to best address customers</p>with low to moderate satisfaction?</font><font face='Helvetica' size=2.5 color=\"blue\"></p><br>**By Rami Zaboura and Amir Ashiri**</font> | ![](https://raw.githubusercontent.com/amirashiri/airline/2017f362a0781514b88e65abb1e768736f0ac6d8/airplane.jpg)\n",
        "\n",
        "**The Goal**\n",
        "\n",
        "Assuming that on a regular basis the airline company is able to collect various attributes related to customer satisfaction, but not necessarily the final/overall satisfaction experience, build a classification model which can accurately predict the overall experience, based on such attributes.The company may then allocate funds only to the customers who require it\n",
        "\n",
        "**The data**\n",
        "\n",
        "Passenger survey data based on about 130K customer trips, and collected over one year. The survery contains 22 satisfaction-related factors, such as passenger and trip attributes, service attributes, and on-boarding experience attributes.\n",
        "14 of these 22 are survey answers by the customers, using a score between 1=worst and 5=best. Zero should reflect no-answer.\n",
        "In addition, the data includes the \"satisfaction\" column which is the  overall satisfaction score: \"satisfied\", or \"dissatisfied, or neutral\".\n",
        "\n",
        "**Method**\n",
        "\n",
        "* Explore the data and look for important features\n",
        "* Add features which might help the model\n",
        "* Create a baseline model\n",
        "* Train relevant classifiers, optimize and cross validate\n",
        "* Add ensembling models using voting, bagging, and boosting\n",
        "* Select the best model and run it on test data\n",
        "* Analyze the selected model: error analysis, sensitivity, stability\n"
      ]
    },
    {
      "cell_type": "markdown",
      "metadata": {
        "id": "dA2eU57okLBo"
      },
      "source": [
        "## Setup & read data"
      ]
    },
    {
      "cell_type": "code",
      "metadata": {
        "id": "436K43YzY7bf"
      },
      "source": [
        "import pandas as pd\n",
        "import numpy as np\n",
        "from matplotlib import pyplot as plt\n",
        "from matplotlib.pylab import rcParams\n",
        "from mlxtend.plotting import plot_decision_regions\n",
        "import matplotlib.gridspec as gridspec\n",
        "import seaborn as sns\n",
        "!pip install scikit-learn==0.24.2\n",
        "# from sklearn.tree import DecisionTreeClassifier\n",
        "# from sklearn.neighbors import KNeighborsClassifier\n",
        "from sklearn.preprocessing import StandardScaler\n",
        "from sklearn.metrics import confusion_matrix, plot_confusion_matrix, classification_report, accuracy_score ,roc_auc_score, mean_squared_error\n",
        "from sklearn.model_selection import cross_val_score, RepeatedKFold, GridSearchCV, RandomizedSearchCV\n",
        "from sklearn.ensemble import RandomForestClassifier, VotingClassifier, BaggingClassifier, AdaBoostClassifier, GradientBoostingClassifier\n",
        "from sklearn.linear_model import LogisticRegression\n",
        "import lightgbm as lgb\n",
        "!pip install xgboost==1.4.1\n",
        "import xgboost as xgb\n",
        "from xgboost import plot_tree\n",
        "!pip install catboost\n",
        "from catboost import CatBoostClassifier, Pool\n",
        "from sklearn.neighbors import KNeighborsRegressor\n",
        "from scipy import stats \n",
        "from scipy.stats import uniform\n",
        "from statistics import *\n",
        "!pip install lime\n",
        "import lime\n",
        "!pip install pytolemaic\n",
        "from pytolemaic.pytrust import PyTrust\n",
        "from pytolemaic.utils.dmd import DMD\n",
        "from pprint import pprint\n",
        "from lime import lime_tabular\n",
        "import pickle\n",
        "from os.path import join\n",
        "from urllib.request import urlopen\n",
        "from itertools import product\n",
        "from IPython.display import Image\n",
        "import time\n",
        "import warnings\n",
        "from google_drive_downloader import GoogleDriveDownloader as gdd\n",
        "warnings.filterwarnings('ignore')\n",
        "pd.options.display.float_format = '{:,.2f}'.format\n",
        "plt.rcParams.update({'figure.max_open_warning': 0})\n",
        " \n",
        "# re-load final model results based on local processing, to allow for better performance in scale\n",
        "pre_calc = False"
      ],
      "execution_count": null,
      "outputs": []
    },
    {
      "cell_type": "code",
      "metadata": {
        "id": "Lo0PAJf1MBKY"
      },
      "source": [
        "url=\"http://raw.githubusercontent.com/amirashiri/airline/main/\"\n",
        "col_names = ['_', 'id', 'gender','customer_type', 'age', 'travel_type', 'travel_class', 'flight_distance', 'inflight_wifi', 'time_convenience',\n",
        "             'online_booking_ease', 'gate_location', 'food_and_drink', 'online_boarding', 'seat_comfort', 'Inflight_entertainment',\n",
        "             'on_board_service', 'leg_room', 'baggage_handling', 'checkin', 'inflight_service', 'cleanliness', 'departure_delay', 'arrival_delay',\n",
        "             'satisfaction']\n",
        " \n",
        "def read_data(df_name):\n",
        "    df = pd.read_csv(f'{url}{df_name}.csv', names=col_names, skiprows=1)\n",
        "    df.drop(columns='_', inplace=True)\n",
        "    df.fillna(0, inplace=True)\n",
        "    return df\n",
        " \n",
        "train = read_data('train')\n",
        "test = read_data('test')"
      ],
      "execution_count": null,
      "outputs": []
    },
    {
      "cell_type": "markdown",
      "metadata": {
        "id": "AesmFU5IWF8U"
      },
      "source": [
        "## Data Preparation"
      ]
    },
    {
      "cell_type": "markdown",
      "metadata": {
        "id": "oIBII_FSYNvW"
      },
      "source": [
        "Create categories and numerical values to be used in models"
      ]
    },
    {
      "cell_type": "code",
      "metadata": {
        "id": "oO_T6LS-WI5h"
      },
      "source": [
        "def prep_data(df_name):\n",
        "    df_name.drop(columns='id', inplace=True)\n",
        "    df_name['gender_categ'] = df_name.gender.astype('category')\n",
        "    df_name.gender = df_name.gender_categ.cat.codes\n",
        "    df_name['customer_type_categ'] = df_name.customer_type.astype('category').cat.set_categories(['disloyal Customer', 'Loyal Customer'], ordered=True)\n",
        "    df_name.customer_type = df_name.customer_type_categ.cat.codes\n",
        "    df_name['travel_type_categ'] = df_name.travel_type.astype('category').cat.set_categories(['Personal Travel', 'Business travel' ], ordered=True)\n",
        "    df_name.travel_type = df_name.travel_type_categ.cat.codes\n",
        "    df_name['travel_class_categ'] = df_name.travel_class.astype('category').cat.set_categories(['Eco', 'Eco Plus', 'Business'], ordered=True)\n",
        "    df_name.travel_class = df_name.travel_class_categ.cat.codes\n",
        "    df_name['satisfaction_categ'] = df_name.satisfaction.astype('category')\n",
        "    df_name.satisfaction = df_name.satisfaction_categ.cat.codes\n",
        "\n",
        "prep_data(train)\n",
        "prep_data(test)"
      ],
      "execution_count": null,
      "outputs": []
    },
    {
      "cell_type": "markdown",
      "metadata": {
        "id": "_foBniwV3Yl_"
      },
      "source": [
        "First look at the data and our target"
      ]
    },
    {
      "cell_type": "code",
      "metadata": {
        "id": "6lkXXd3wZMn9",
        "colab": {
          "base_uri": "https://localhost:8080/"
        },
        "outputId": "a2f38b8d-63b1-4d50-a986-75ea78d3c747"
      },
      "source": [
        "train.head(3)"
      ],
      "execution_count": null,
      "outputs": [
        {
          "output_type": "execute_result",
          "data": {
            "text/html": [
              "<div>\n",
              "<style scoped>\n",
              "    .dataframe tbody tr th:only-of-type {\n",
              "        vertical-align: middle;\n",
              "    }\n",
              "\n",
              "    .dataframe tbody tr th {\n",
              "        vertical-align: top;\n",
              "    }\n",
              "\n",
              "    .dataframe thead th {\n",
              "        text-align: right;\n",
              "    }\n",
              "</style>\n",
              "<table border=\"1\" class=\"dataframe\">\n",
              "  <thead>\n",
              "    <tr style=\"text-align: right;\">\n",
              "      <th></th>\n",
              "      <th>gender</th>\n",
              "      <th>customer_type</th>\n",
              "      <th>age</th>\n",
              "      <th>travel_type</th>\n",
              "      <th>travel_class</th>\n",
              "      <th>flight_distance</th>\n",
              "      <th>inflight_wifi</th>\n",
              "      <th>time_convenience</th>\n",
              "      <th>online_booking_ease</th>\n",
              "      <th>gate_location</th>\n",
              "      <th>food_and_drink</th>\n",
              "      <th>online_boarding</th>\n",
              "      <th>seat_comfort</th>\n",
              "      <th>Inflight_entertainment</th>\n",
              "      <th>on_board_service</th>\n",
              "      <th>leg_room</th>\n",
              "      <th>baggage_handling</th>\n",
              "      <th>checkin</th>\n",
              "      <th>inflight_service</th>\n",
              "      <th>cleanliness</th>\n",
              "      <th>departure_delay</th>\n",
              "      <th>arrival_delay</th>\n",
              "      <th>satisfaction</th>\n",
              "      <th>gender_categ</th>\n",
              "      <th>customer_type_categ</th>\n",
              "      <th>travel_type_categ</th>\n",
              "      <th>travel_class_categ</th>\n",
              "      <th>satisfaction_categ</th>\n",
              "    </tr>\n",
              "  </thead>\n",
              "  <tbody>\n",
              "    <tr>\n",
              "      <th>0</th>\n",
              "      <td>1</td>\n",
              "      <td>1</td>\n",
              "      <td>13</td>\n",
              "      <td>0</td>\n",
              "      <td>1</td>\n",
              "      <td>460</td>\n",
              "      <td>3</td>\n",
              "      <td>4</td>\n",
              "      <td>3</td>\n",
              "      <td>1</td>\n",
              "      <td>5</td>\n",
              "      <td>3</td>\n",
              "      <td>5</td>\n",
              "      <td>5</td>\n",
              "      <td>4</td>\n",
              "      <td>3</td>\n",
              "      <td>4</td>\n",
              "      <td>4</td>\n",
              "      <td>5</td>\n",
              "      <td>5</td>\n",
              "      <td>25</td>\n",
              "      <td>18.0</td>\n",
              "      <td>0</td>\n",
              "      <td>Male</td>\n",
              "      <td>Loyal Customer</td>\n",
              "      <td>Personal Travel</td>\n",
              "      <td>Eco Plus</td>\n",
              "      <td>neutral or dissatisfied</td>\n",
              "    </tr>\n",
              "    <tr>\n",
              "      <th>1</th>\n",
              "      <td>1</td>\n",
              "      <td>0</td>\n",
              "      <td>25</td>\n",
              "      <td>1</td>\n",
              "      <td>2</td>\n",
              "      <td>235</td>\n",
              "      <td>3</td>\n",
              "      <td>2</td>\n",
              "      <td>3</td>\n",
              "      <td>3</td>\n",
              "      <td>1</td>\n",
              "      <td>3</td>\n",
              "      <td>1</td>\n",
              "      <td>1</td>\n",
              "      <td>1</td>\n",
              "      <td>5</td>\n",
              "      <td>3</td>\n",
              "      <td>1</td>\n",
              "      <td>4</td>\n",
              "      <td>1</td>\n",
              "      <td>1</td>\n",
              "      <td>6.0</td>\n",
              "      <td>0</td>\n",
              "      <td>Male</td>\n",
              "      <td>disloyal Customer</td>\n",
              "      <td>Business travel</td>\n",
              "      <td>Business</td>\n",
              "      <td>neutral or dissatisfied</td>\n",
              "    </tr>\n",
              "    <tr>\n",
              "      <th>2</th>\n",
              "      <td>0</td>\n",
              "      <td>1</td>\n",
              "      <td>26</td>\n",
              "      <td>1</td>\n",
              "      <td>2</td>\n",
              "      <td>1142</td>\n",
              "      <td>2</td>\n",
              "      <td>2</td>\n",
              "      <td>2</td>\n",
              "      <td>2</td>\n",
              "      <td>5</td>\n",
              "      <td>5</td>\n",
              "      <td>5</td>\n",
              "      <td>5</td>\n",
              "      <td>4</td>\n",
              "      <td>3</td>\n",
              "      <td>4</td>\n",
              "      <td>4</td>\n",
              "      <td>4</td>\n",
              "      <td>5</td>\n",
              "      <td>0</td>\n",
              "      <td>0.0</td>\n",
              "      <td>1</td>\n",
              "      <td>Female</td>\n",
              "      <td>Loyal Customer</td>\n",
              "      <td>Business travel</td>\n",
              "      <td>Business</td>\n",
              "      <td>satisfied</td>\n",
              "    </tr>\n",
              "  </tbody>\n",
              "</table>\n",
              "</div>"
            ],
            "text/plain": [
              "   gender  customer_type  ...  travel_class_categ       satisfaction_categ\n",
              "0       1              1  ...            Eco Plus  neutral or dissatisfied\n",
              "1       1              0  ...            Business  neutral or dissatisfied\n",
              "2       0              1  ...            Business                satisfied\n",
              "\n",
              "[3 rows x 28 columns]"
            ]
          },
          "metadata": {
            "tags": []
          },
          "execution_count": 6
        }
      ]
    },
    {
      "cell_type": "code",
      "metadata": {
        "id": "Pxws0jwn3L1U",
        "colab": {
          "base_uri": "https://localhost:8080/"
        },
        "outputId": "ec496a09-e23a-4994-c935-078b2cfa989b"
      },
      "source": [
        "train.satisfaction.value_counts()"
      ],
      "execution_count": null,
      "outputs": [
        {
          "output_type": "execute_result",
          "data": {
            "text/plain": [
              "0    58879\n",
              "1    45025\n",
              "Name: satisfaction, dtype: int64"
            ]
          },
          "metadata": {
            "tags": []
          },
          "execution_count": 7
        }
      ]
    },
    {
      "cell_type": "markdown",
      "metadata": {
        "id": "M-HDtjItUDLr"
      },
      "source": [
        "Check number zero scores, per column:"
      ]
    },
    {
      "cell_type": "code",
      "metadata": {
        "id": "xIq2QBF_8FGo",
        "colab": {
          "base_uri": "https://localhost:8080/"
        },
        "outputId": "75e9aaf3-513a-41f8-fb33-28fa968a150c"
      },
      "source": [
        "train.loc[:,'inflight_wifi':'cleanliness'].apply(lambda x: x.value_counts(), axis=0).fillna(0).loc[0].sort_values(ascending=False)"
      ],
      "execution_count": null,
      "outputs": [
        {
          "output_type": "execute_result",
          "data": {
            "text/plain": [
              "time_convenience          5300.0\n",
              "online_booking_ease       4487.0\n",
              "inflight_wifi             3103.0\n",
              "online_boarding           2428.0\n",
              "leg_room                   472.0\n",
              "food_and_drink             107.0\n",
              "Inflight_entertainment      14.0\n",
              "cleanliness                 12.0\n",
              "inflight_service             3.0\n",
              "on_board_service             3.0\n",
              "checkin                      1.0\n",
              "seat_comfort                 1.0\n",
              "gate_location                1.0\n",
              "baggage_handling             0.0\n",
              "Name: 0, dtype: float64"
            ]
          },
          "metadata": {
            "tags": []
          },
          "execution_count": 8
        }
      ]
    },
    {
      "cell_type": "markdown",
      "metadata": {
        "id": "BLwBl5HfSbq_"
      },
      "source": [
        "Conceptually, these values should reflect an unanswered question However, looking at some of these columns vs. satisfaction, it looks like some should are very similar to value=5, while others are not. So, we'll try building a model excluding these rows, and compare it to a model which includes them. If it turns out that the first model is significantly better, we may try to predict or better adjust these zero values"
      ]
    },
    {
      "cell_type": "code",
      "metadata": {
        "id": "kbYz7RN0-vfG",
        "colab": {
          "base_uri": "https://localhost:8080/"
        },
        "outputId": "db643c8c-ec5b-4b39-cdfc-d6c480abb011"
      },
      "source": [
        "pd.crosstab(train.inflight_wifi, train.satisfaction, normalize='index', margins=True)"
      ],
      "execution_count": null,
      "outputs": [
        {
          "output_type": "execute_result",
          "data": {
            "text/html": [
              "<div>\n",
              "<style scoped>\n",
              "    .dataframe tbody tr th:only-of-type {\n",
              "        vertical-align: middle;\n",
              "    }\n",
              "\n",
              "    .dataframe tbody tr th {\n",
              "        vertical-align: top;\n",
              "    }\n",
              "\n",
              "    .dataframe thead th {\n",
              "        text-align: right;\n",
              "    }\n",
              "</style>\n",
              "<table border=\"1\" class=\"dataframe\">\n",
              "  <thead>\n",
              "    <tr style=\"text-align: right;\">\n",
              "      <th>satisfaction</th>\n",
              "      <th>0</th>\n",
              "      <th>1</th>\n",
              "    </tr>\n",
              "    <tr>\n",
              "      <th>inflight_wifi</th>\n",
              "      <th></th>\n",
              "      <th></th>\n",
              "    </tr>\n",
              "  </thead>\n",
              "  <tbody>\n",
              "    <tr>\n",
              "      <th>0</th>\n",
              "      <td>0.002578</td>\n",
              "      <td>0.997422</td>\n",
              "    </tr>\n",
              "    <tr>\n",
              "      <th>1</th>\n",
              "      <td>0.674552</td>\n",
              "      <td>0.325448</td>\n",
              "    </tr>\n",
              "    <tr>\n",
              "      <th>2</th>\n",
              "      <td>0.751336</td>\n",
              "      <td>0.248664</td>\n",
              "    </tr>\n",
              "    <tr>\n",
              "      <th>3</th>\n",
              "      <td>0.749420</td>\n",
              "      <td>0.250580</td>\n",
              "    </tr>\n",
              "    <tr>\n",
              "      <th>4</th>\n",
              "      <td>0.401031</td>\n",
              "      <td>0.598969</td>\n",
              "    </tr>\n",
              "    <tr>\n",
              "      <th>5</th>\n",
              "      <td>0.009242</td>\n",
              "      <td>0.990758</td>\n",
              "    </tr>\n",
              "    <tr>\n",
              "      <th>All</th>\n",
              "      <td>0.566667</td>\n",
              "      <td>0.433333</td>\n",
              "    </tr>\n",
              "  </tbody>\n",
              "</table>\n",
              "</div>"
            ],
            "text/plain": [
              "satisfaction          0         1\n",
              "inflight_wifi                    \n",
              "0              0.002578  0.997422\n",
              "1              0.674552  0.325448\n",
              "2              0.751336  0.248664\n",
              "3              0.749420  0.250580\n",
              "4              0.401031  0.598969\n",
              "5              0.009242  0.990758\n",
              "All            0.566667  0.433333"
            ]
          },
          "metadata": {
            "tags": []
          },
          "execution_count": 9
        }
      ]
    },
    {
      "cell_type": "markdown",
      "metadata": {
        "id": "QooqZ27Ikaus"
      },
      "source": [
        "Number of survey questions the customer left unanswered"
      ]
    },
    {
      "cell_type": "code",
      "metadata": {
        "id": "EYt8CV1fkWbU"
      },
      "source": [
        "for df in [train, test]:\n",
        "    df['no_answers'] = df.apply(lambda row: sum([val == 0 for val in row.loc['inflight_wifi':'cleanliness']]), axis=1)"
      ],
      "execution_count": null,
      "outputs": []
    },
    {
      "cell_type": "code",
      "metadata": {
        "id": "xN3GX2t5PvH-",
        "colab": {
          "base_uri": "https://localhost:8080/"
        },
        "outputId": "fccc87f3-b3f8-4eb6-fbc6-224f60afa789"
      },
      "source": [
        "train.no_answers.value_counts()"
      ],
      "execution_count": null,
      "outputs": [
        {
          "output_type": "execute_result",
          "data": {
            "text/plain": [
              "0    95704\n",
              "1     3648\n",
              "3     2048\n",
              "2     1938\n",
              "4      566\n",
              "Name: no_answers, dtype: int64"
            ]
          },
          "metadata": {
            "tags": []
          },
          "execution_count": 11
        }
      ]
    },
    {
      "cell_type": "markdown",
      "metadata": {
        "id": "z1E0QWXkYcKS"
      },
      "source": [
        "Drop rows with unanswered questions"
      ]
    },
    {
      "cell_type": "code",
      "metadata": {
        "id": "-ubZoD67OxLL"
      },
      "source": [
        "for df in [train, test]:\n",
        "    df.drop(df[df.no_answers > 0].index, inplace=True)\n",
        "    df.drop(columns='no_answers', inplace=True)"
      ],
      "execution_count": null,
      "outputs": []
    },
    {
      "cell_type": "markdown",
      "metadata": {
        "id": "bA6OCSXk8DOS"
      },
      "source": [
        "## EDA"
      ]
    },
    {
      "cell_type": "markdown",
      "metadata": {
        "id": "9Pd3RVzQhIcb"
      },
      "source": [
        "Features / Features / Target correlation"
      ]
    },
    {
      "cell_type": "code",
      "metadata": {
        "id": "QoZ8y1NYhM-W",
        "colab": {
          "base_uri": "https://localhost:8080/",
          "height": 781
        },
        "outputId": "bc735d6c-f631-422e-bc0a-b6585815933d"
      },
      "source": [
        "plt.figure(figsize=(30,12))\n",
        "df = train.loc[:, 'gender':'satisfaction'].corr()\n",
        "sns.heatmap(df, annot=True, fmt='.1f', annot_kws={\"size\":9}, cmap='coolwarm', vmin=-1, vmax=1, center=0, square=True, mask=np.triu(df))\n",
        "plt.xticks(rotation=45, ha='right');"
      ],
      "execution_count": null,
      "outputs": [
        {
          "output_type": "display_data",
          "data": {
            "image/png": "[encoded data removed]",
            "text/plain": [
              "<Figure size 2160x864 with 2 Axes>"
            ]
          },
          "metadata": {
            "tags": [],
            "needs_background": "light"
          }
        }
      ]
    },
    {
      "cell_type": "markdown",
      "metadata": {
        "id": "Lm3yTZvrKhwo"
      },
      "source": [
        "Interestingly, almost all disloyal customers travel for business. These could be employees who's casual travel is paid by their company ?"
      ]
    },
    {
      "cell_type": "code",
      "metadata": {
        "id": "gCRySAxuGMLM",
        "colab": {
          "base_uri": "https://localhost:8080/",
          "height": 143
        },
        "outputId": "6fb1b376-2796-44c4-8ef8-63da8a0800e5"
      },
      "source": [
        "pd.crosstab(train.customer_type_categ, train.travel_type_categ)"
      ],
      "execution_count": null,
      "outputs": [
        {
          "output_type": "execute_result",
          "data": {
            "text/html": [
              "<div>\n",
              "<style scoped>\n",
              "    .dataframe tbody tr th:only-of-type {\n",
              "        vertical-align: middle;\n",
              "    }\n",
              "\n",
              "    .dataframe tbody tr th {\n",
              "        vertical-align: top;\n",
              "    }\n",
              "\n",
              "    .dataframe thead th {\n",
              "        text-align: right;\n",
              "    }\n",
              "</style>\n",
              "<table border=\"1\" class=\"dataframe\">\n",
              "  <thead>\n",
              "    <tr style=\"text-align: right;\">\n",
              "      <th>travel_type_categ</th>\n",
              "      <th>Personal Travel</th>\n",
              "      <th>Business travel</th>\n",
              "    </tr>\n",
              "    <tr>\n",
              "      <th>customer_type_categ</th>\n",
              "      <th></th>\n",
              "      <th></th>\n",
              "    </tr>\n",
              "  </thead>\n",
              "  <tbody>\n",
              "    <tr>\n",
              "      <th>disloyal Customer</th>\n",
              "      <td>147</td>\n",
              "      <td>15238</td>\n",
              "    </tr>\n",
              "    <tr>\n",
              "      <th>Loyal Customer</th>\n",
              "      <td>29451</td>\n",
              "      <td>50868</td>\n",
              "    </tr>\n",
              "  </tbody>\n",
              "</table>\n",
              "</div>"
            ],
            "text/plain": [
              "travel_type_categ    Personal Travel  Business travel\n",
              "customer_type_categ                                  \n",
              "disloyal Customer                147            15238\n",
              "Loyal Customer                 29451            50868"
            ]
          },
          "metadata": {
            "tags": []
          },
          "execution_count": 14
        }
      ]
    },
    {
      "cell_type": "code",
      "metadata": {
        "id": "6mhrAjhwwAlI",
        "colab": {
          "base_uri": "https://localhost:8080/",
          "height": 243
        },
        "outputId": "af4c7c15-02fc-4101-bff1-1ca8e835a0d6"
      },
      "source": [
        "plt.figure(figsize=(6,3))\n",
        "cp=sns.countplot(data=train,x='gender_categ',hue='satisfaction_categ')\n",
        "cp.legend(bbox_to_anchor= (0.75, 1) )"
      ],
      "execution_count": null,
      "outputs": [
        {
          "output_type": "execute_result",
          "data": {
            "text/plain": [
              "<matplotlib.legend.Legend at 0x7f17876d6f10>"
            ]
          },
          "metadata": {
            "tags": []
          },
          "execution_count": 15
        },
        {
          "output_type": "display_data",
          "data": {
            "image/png": "[encoded data removed]",
            "text/plain": [
              "<Figure size 432x216 with 1 Axes>"
            ]
          },
          "metadata": {
            "tags": [],
            "needs_background": "light"
          }
        }
      ]
    },
    {
      "cell_type": "markdown",
      "metadata": {
        "id": "fldczc3twBW8"
      },
      "source": [
        "* no difference in satisfaction between males and females"
      ]
    },
    {
      "cell_type": "markdown",
      "metadata": {
        "id": "sx4AlWHOwgWp"
      },
      "source": [
        "Let's view the features correlated with satisfaction, together with their frequencies:"
      ]
    },
    {
      "cell_type": "code",
      "metadata": {
        "id": "ESRtnnUkU5po",
        "colab": {
          "base_uri": "https://localhost:8080/"
        },
        "outputId": "3527a986-a3c7-41d8-a761-bf97b8de3d72"
      },
      "source": [
        "grp_cols = ['age', 'flight_distance']\n",
        "other_cols = [col for col in train.loc[:, :'cleanliness'].columns if col not in\n",
        "              (grp_cols + ['gender', 'gate_location', 'time_convenience'])]\n",
        "for col in grp_cols + other_cols:\n",
        "    if col in grp_cols:\n",
        "        x = pd.cut(train[col], 5, duplicates='drop', precision=0)\n",
        "        width, height = 18, 1.5\n",
        "    else:\n",
        "        x = train[col]\n",
        "        width, height = 8, 1.5\n",
        "    fig, ax = plt.subplots(1, 2, figsize=(width, height), sharex=True);        \n",
        "    sns.barplot(x=x, y=train.satisfaction, ax=ax[0]);\n",
        "    sns.countplot(x=x, ax=ax[1]);\n",
        "    fig.tight_layout(); "
      ],
      "execution_count": null,
      "outputs": [
        {
          "output_type": "display_data",
          "data": {
            "image/png": "[encoded data removed]",
            "text/plain": [
              "<Figure size 1296x108 with 2 Axes>"
            ]
          },
          "metadata": {
            "tags": [],
            "needs_background": "light"
          }
        },
        {
          "output_type": "display_data",
          "data": {
            "image/png": "[encoded data removed]",
            "text/plain": [
              "<Figure size 1296x108 with 2 Axes>"
            ]
          },
          "metadata": {
            "tags": [],
            "needs_background": "light"
          }
        },
        {
          "output_type": "display_data",
          "data": {
            "image/png": "[encoded data removed]",
            "text/plain": [
              "<Figure size 576x108 with 2 Axes>"
            ]
          },
          "metadata": {
            "tags": [],
            "needs_background": "light"
          }
        },
        {
          "output_type": "display_data",
          "data": {
            "image/png": "[encoded data removed]",
            "text/plain": [
              "<Figure size 576x108 with 2 Axes>"
            ]
          },
          "metadata": {
            "tags": [],
            "needs_background": "light"
          }
        },
        {
          "output_type": "display_data",
          "data": {
            "image/png": "[encoded data removed]",
            "text/plain": [
              "<Figure size 576x108 with 2 Axes>"
            ]
          },
          "metadata": {
            "tags": [],
            "needs_background": "light"
          }
        },
        {
          "output_type": "display_data",
          "data": {
            "image/png": "[encoded data removed]",
            "text/plain": [
              "<Figure size 576x108 with 2 Axes>"
            ]
          },
          "metadata": {
            "tags": [],
            "needs_background": "light"
          }
        },
        {
          "output_type": "display_data",
          "data": {
            "image/png": "[encoded data removed]",
            "text/plain": [
              "<Figure size 576x108 with 2 Axes>"
            ]
          },
          "metadata": {
            "tags": [],
            "needs_background": "light"
          }
        },
        {
          "output_type": "display_data",
          "data": {
            "image/png": "[encoded data removed]",
            "text/plain": [
              "<Figure size 576x108 with 2 Axes>"
            ]
          },
          "metadata": {
            "tags": [],
            "needs_background": "light"
          }
        },
        {
          "output_type": "display_data",
          "data": {
            "image/png": "[encoded data removed]",
            "text/plain": [
              "<Figure size 576x108 with 2 Axes>"
            ]
          },
          "metadata": {
            "tags": [],
            "needs_background": "light"
          }
        },
        {
          "output_type": "display_data",
          "data": {
            "image/png": "[encoded data removed]",
            "text/plain": [
              "<Figure size 576x108 with 2 Axes>"
            ]
          },
          "metadata": {
            "tags": [],
            "needs_background": "light"
          }
        },
        {
          "output_type": "display_data",
          "data": {
            "image/png": "[encoded data removed]",
            "text/plain": [
              "<Figure size 576x108 with 2 Axes>"
            ]
          },
          "metadata": {
            "tags": [],
            "needs_background": "light"
          }
        },
        {
          "output_type": "display_data",
          "data": {
            "image/png": "[encoded data removed]",
            "text/plain": [
              "<Figure size 576x108 with 2 Axes>"
            ]
          },
          "metadata": {
            "tags": [],
            "needs_background": "light"
          }
        },
        {
          "output_type": "display_data",
          "data": {
            "image/png": "[encoded data removed]",
            "text/plain": [
              "<Figure size 576x108 with 2 Axes>"
            ]
          },
          "metadata": {
            "tags": [],
            "needs_background": "light"
          }
        },
        {
          "output_type": "display_data",
          "data": {
            "image/png": "[encoded data removed]",
            "text/plain": [
              "<Figure size 576x108 with 2 Axes>"
            ]
          },
          "metadata": {
            "tags": [],
            "needs_background": "light"
          }
        },
        {
          "output_type": "display_data",
          "data": {
            "image/png": "[encoded data removed]",
            "text/plain": [
              "<Figure size 576x108 with 2 Axes>"
            ]
          },
          "metadata": {
            "tags": [],
            "needs_background": "light"
          }
        },
        {
          "output_type": "display_data",
          "data": {
            "image/png": "[encoded data removed]",
            "text/plain": [
              "<Figure size 576x108 with 2 Axes>"
            ]
          },
          "metadata": {
            "tags": [],
            "needs_background": "light"
          }
        },
        {
          "output_type": "display_data",
          "data": {
            "image/png": "[encoded data removed]",
            "text/plain": [
              "<Figure size 576x108 with 2 Axes>"
            ]
          },
          "metadata": {
            "tags": [],
            "needs_background": "light"
          }
        }
      ]
    },
    {
      "cell_type": "markdown",
      "metadata": {
        "id": "OVKD-RRKwTUq"
      },
      "source": [
        "inspect ages of customers"
      ]
    },
    {
      "cell_type": "code",
      "metadata": {
        "id": "3RAMY1iGwP6b",
        "colab": {
          "base_uri": "https://localhost:8080/"
        },
        "outputId": "4095583d-11e2-43e0-c72b-eb6d66d7e8b5"
      },
      "source": [
        "print(\"average age: \",train.age.median())\n",
        "print(\"oldest customer age: \",train.age.max())\n",
        "print(\"youngest customer age: \",train.age.min())\n",
        "# how many customers are under 18?\n",
        "f'customers under the age of 18 account for {round((train[train.age<18].value_counts().sum()/len(train)*100),2)}% of the data'\n",
        "under_18=train[train.age<18].satisfaction\n",
        "print(f\"percentage of under 18 satisfied customers: {round(under_18.sum()/len(under_18),3)}\")\n",
        "over_18=train[train.age>=18].satisfaction\n",
        "print(f\"percentage of over 18 satisfied customers: {round(over_18.sum()/len(over_18),3)}\")"
      ],
      "execution_count": null,
      "outputs": [
        {
          "output_type": "stream",
          "text": [
            "average age:  40.0\n",
            "oldest customer age:  85\n",
            "youngest customer age:  7\n",
            "percentage of under 18 satisfied customers: 0.142\n",
            "percentage of over 18 satisfied customers: 0.449\n"
          ],
          "name": "stdout"
        }
      ]
    },
    {
      "cell_type": "markdown",
      "metadata": {
        "id": "Zd6pAC6HkD9X"
      },
      "source": [
        "## Feature engineering"
      ]
    },
    {
      "cell_type": "markdown",
      "metadata": {
        "id": "1ZcH8_oQBy7b"
      },
      "source": [
        "Create combinations of features by categorizing their meaning"
      ]
    },
    {
      "cell_type": "code",
      "metadata": {
        "id": "LE2Esq-tn2nW"
      },
      "source": [
        "for df in [train, test]:\n",
        "    position = df.columns.get_loc('satisfaction')\n",
        "    df.insert(position, 'delay', df.departure_delay + df.arrival_delay)\n",
        "    df.insert(position, 'pre_flight', df[[\n",
        "        'online_booking_ease',\n",
        "        'online_boarding',\n",
        "        'checkin',\n",
        "        'baggage_handling',\n",
        "        'gate_location',\n",
        "        'time_convenience']].mean(axis=1))\n",
        "\n",
        "    df.insert(position, 'seating', df[[\n",
        "        'seat_comfort',\n",
        "        'leg_room',\n",
        "        'cleanliness']].mean(axis=1))\n",
        "\n",
        "    df.insert(position, 'service', df[[\n",
        "    'inflight_wifi',\n",
        "    'Inflight_entertainment',\n",
        "    'food_and_drink',\n",
        "    'on_board_service',\n",
        "    'inflight_service']].mean(axis=1))"
      ],
      "execution_count": null,
      "outputs": []
    },
    {
      "cell_type": "code",
      "metadata": {
        "id": "nl-I80C74gUK",
        "colab": {
          "base_uri": "https://localhost:8080/"
        },
        "outputId": "3ddb06d5-1652-4fbf-9d66-5e8146ca8346"
      },
      "source": [
        "fig, ax = plt.subplots(1, 2, figsize=(15, 5));\n",
        "sns.histplot(data=train, x='flight_distance', hue='satisfaction_categ', ax=ax[0])\n",
        "sns.histplot(data=train, x='age', hue='satisfaction_categ', ax=ax[1]);"
      ],
      "execution_count": null,
      "outputs": [
        {
          "output_type": "display_data",
          "data": {
            "image/png": "[encoded data removed]",
            "text/plain": [
              "<Figure size 1080x360 with 2 Axes>"
            ]
          },
          "metadata": {
            "tags": [],
            "needs_background": "light"
          }
        }
      ]
    },
    {
      "cell_type": "markdown",
      "metadata": {
        "id": "C_9MAvZIwmOE"
      },
      "source": [
        "it seems like there is a monotonic relation between flight distance and satisfaction, plus age and satisfaction until a certain age\n",
        "so it would be worthy to create a new weight of evidence columns of these variables which specifies the importance of each subgroup in the variable in terms of seperating between the satisfied vs dissatisfied customer\n"
      ]
    },
    {
      "cell_type": "code",
      "metadata": {
        "id": "j7SUwgyU77tz",
        "colab": {
          "base_uri": "https://localhost:8080/"
        },
        "outputId": "613fe562-eeec-4a41-caeb-315d2e79f742"
      },
      "source": [
        "def woe(df,feature,target,nbins=-1):\n",
        "    \"create a new - weights of evidence columns\"\n",
        "    #continues feature- divide it into bins (subgroups)\n",
        "    woe_list=[]\n",
        "    if str(df[feature].dtype) != 'category':\n",
        "        lvl=pd.qcut(df[feature],nbins,precision=0).cat.categories # divide the continues variable into  bins\n",
        "        # iterate over each bin and extract its weight of evidence\n",
        "        for i in range(nbins):\n",
        "            lower_val, upper_val = lvl[i].left, lvl[i].right\n",
        "            # count the number of \"non-events\" for the subgroup and divide by the total number of non events:\n",
        "            non_events_subgroup = df[(df[feature]>=lower_val) & (df[feature]<=upper_val) & (df[target]=='neutral or dissatisfied')].shape[0]\n",
        "            non_events_total= df[df[target]=='neutral or dissatisfied'].shape[0]\n",
        "            non_events_ratio = non_events_subgroup / non_events_total\n",
        "            # count the number of \"events\" for the subgroup and divide by the total number of events:\n",
        "            events_subgroup = df[(df[feature]>=lower_val) & (df[feature]<=upper_val) & (df[target]=='satisfied')].shape[0]\n",
        "            events_total = df[df[target]=='satisfied'].shape[0]\n",
        "            events_ratio =  events_subgroup / events_total\n",
        "            # weight of evidence is definde as the natural log of the division of events ratio by non events ratio\n",
        "            woe_list.append(np.log(events_ratio/non_events_ratio))\n",
        "        map_values(df,feature,woe_list,lvl,False)\n",
        "      \n",
        "        \n",
        "    else:\n",
        "        # categorical feature- already divided into bins\n",
        "        lvl=df[feature].cat.categories\n",
        "        for level in lvl:\n",
        "            non_events_subgroup = df[(df[feature]==level) & (df[target]=='neutral or dissatisfied')].shape[0]\n",
        "            non_events_total= df[df[target]=='neutral or dissatisfied'].shape[0]\n",
        "            non_events_ratio = non_events_subgroup / non_events_total\n",
        "            events_subgroup = df[(df[feature]==level)  & (df[target]=='satisfied')].shape[0]\n",
        "            events_total = df[df[target]=='satisfied'].shape[0]\n",
        "            events_ratio =  events_subgroup / events_total\n",
        "            woe_list.append(np.log(events_ratio/non_events_ratio))\n",
        "        map_values(df,feature,woe_list,lvl,True)\n",
        "        \n",
        "        \n",
        "def map_values(df,feature,woe_list,lvl,categorical):\n",
        "    \"map the WOE values into the according bins\"\n",
        "    print(\"given feature:\",feature)\n",
        "    print(\"the feature's different levels and their WOEs:\")\n",
        "    print(list(zip(list(lvl),woe_list)))\n",
        "    print(\"- \"*300)\n",
        "    if categorical==False:\n",
        "        lvl=lvl.to_tuples()\n",
        "        d={range(int(level[0]+1),int(level[1]+1)):woe_list[i] for i,level in enumerate(lvl)}\n",
        "        apply_values(df,feature,lvl,d)\n",
        "    else:\n",
        "        d={level:woe_list[i] for i,level in enumerate(lvl)}\n",
        "        apply_values(df,feature,lvl,d)\n",
        "        \n",
        "\n",
        "def apply_values(df,feature,lvl,d):\n",
        "    woe_feature=[]\n",
        "    for val in df[feature]:\n",
        "        for key,value in d.items():\n",
        "            if val in key:\n",
        "                woe_feature.append(value)\n",
        "                break   \n",
        "    df.insert(df.columns.get_loc('satisfaction'),feature+\"_woe\",woe_feature)                \n",
        "\n",
        "df_names=[\"train\",\"test\"]\n",
        "for i,df in enumerate([train,test]):\n",
        "    print(\"current dataset:\",df_names[i])\n",
        "    woe(df,'flight_distance','satisfaction_categ',5)\n",
        "    woe(df,'age','satisfaction_categ',5)"
      ],
      "execution_count": null,
      "outputs": [
        {
          "output_type": "stream",
          "text": [
            "current dataset: train\n",
            "given feature: flight_distance\n",
            "the feature's different levels and their WOEs:\n",
            "[(Interval(30.0, 376.0, closed='right'), -0.4318307951447693), (Interval(376.0, 668.0, closed='right'), -0.49750771314418946), (Interval(668.0, 1085.0, closed='right'), -0.5004885227299593), (Interval(1085.0, 2119.0, closed='right'), 0.2693735464386085), (Interval(2119.0, 4983.0, closed='right'), 1.0983772461044936)]\n",
            "- - - - - - - - - - - - - - - - - - - - - - - - - - - - - - - - - - - - - - - - - - - - - - - - - - - - - - - - - - - - - - - - - - - - - - - - - - - - - - - - - - - - - - - - - - - - - - - - - - - - - - - - - - - - - - - - - - - - - - - - - - - - - - - - - - - - - - - - - - - - - - - - - - - - - - - - - - - - - - - - - - - - - - - - - - - - - - - - - - - - - - - - - - - - - - - - - - - - - - - - - - - - - - - - - - - - - - - - - - - - - - - - - - - - - - - - - - - - - - - - - - - - - - - - - - - - - - - - - - - - - - - - - - - - - - - - - - - - - - - - - - - - - - - - - - - - - - - - - - - - \n",
            "given feature: age\n",
            "the feature's different levels and their WOEs:\n",
            "[(Interval(6.0, 25.0, closed='right'), -0.8815459474687395), (Interval(25.0, 36.0, closed='right'), -0.27107774468352497), (Interval(36.0, 44.0, closed='right'), 0.3639518848837916), (Interval(44.0, 54.0, closed='right'), 0.6119463536788609), (Interval(54.0, 85.0, closed='right'), -0.012870997253305785)]\n",
            "- - - - - - - - - - - - - - - - - - - - - - - - - - - - - - - - - - - - - - - - - - - - - - - - - - - - - - - - - - - - - - - - - - - - - - - - - - - - - - - - - - - - - - - - - - - - - - - - - - - - - - - - - - - - - - - - - - - - - - - - - - - - - - - - - - - - - - - - - - - - - - - - - - - - - - - - - - - - - - - - - - - - - - - - - - - - - - - - - - - - - - - - - - - - - - - - - - - - - - - - - - - - - - - - - - - - - - - - - - - - - - - - - - - - - - - - - - - - - - - - - - - - - - - - - - - - - - - - - - - - - - - - - - - - - - - - - - - - - - - - - - - - - - - - - - - - - - - - - - - - \n",
            "current dataset: test\n",
            "given feature: flight_distance\n",
            "the feature's different levels and their WOEs:\n",
            "[(Interval(30.0, 387.0, closed='right'), -0.4117693021342011), (Interval(387.0, 675.0, closed='right'), -0.4791786124286061), (Interval(675.0, 1085.0, closed='right'), -0.5411928338034744), (Interval(1085.0, 2139.0, closed='right'), 0.2689952197997765), (Interval(2139.0, 4983.0, closed='right'), 1.1100929911430404)]\n",
            "- - - - - - - - - - - - - - - - - - - - - - - - - - - - - - - - - - - - - - - - - - - - - - - - - - - - - - - - - - - - - - - - - - - - - - - - - - - - - - - - - - - - - - - - - - - - - - - - - - - - - - - - - - - - - - - - - - - - - - - - - - - - - - - - - - - - - - - - - - - - - - - - - - - - - - - - - - - - - - - - - - - - - - - - - - - - - - - - - - - - - - - - - - - - - - - - - - - - - - - - - - - - - - - - - - - - - - - - - - - - - - - - - - - - - - - - - - - - - - - - - - - - - - - - - - - - - - - - - - - - - - - - - - - - - - - - - - - - - - - - - - - - - - - - - - - - - - - - - - - - \n",
            "given feature: age\n",
            "the feature's different levels and their WOEs:\n",
            "[(Interval(6.0, 26.0, closed='right'), -0.7881668887909408), (Interval(26.0, 36.0, closed='right'), -0.26178214850381865), (Interval(36.0, 45.0, closed='right'), 0.3886446717761905), (Interval(45.0, 54.0, closed='right'), 0.6007137509763516), (Interval(54.0, 85.0, closed='right'), -0.04248218120063931)]\n",
            "- - - - - - - - - - - - - - - - - - - - - - - - - - - - - - - - - - - - - - - - - - - - - - - - - - - - - - - - - - - - - - - - - - - - - - - - - - - - - - - - - - - - - - - - - - - - - - - - - - - - - - - - - - - - - - - - - - - - - - - - - - - - - - - - - - - - - - - - - - - - - - - - - - - - - - - - - - - - - - - - - - - - - - - - - - - - - - - - - - - - - - - - - - - - - - - - - - - - - - - - - - - - - - - - - - - - - - - - - - - - - - - - - - - - - - - - - - - - - - - - - - - - - - - - - - - - - - - - - - - - - - - - - - - - - - - - - - - - - - - - - - - - - - - - - - - - - - - - - - - - \n"
          ],
          "name": "stdout"
        }
      ]
    },
    {
      "cell_type": "markdown",
      "metadata": {
        "id": "0Ce-kFyw8Rj4"
      },
      "source": [
        "As we can see above, the WOEs indeed assigns more weight to older customers and longer flights. This way, we suggest our future models to consider these weights during classification"
      ]
    },
    {
      "cell_type": "markdown",
      "metadata": {
        "id": "bDgi5dqN_lH9"
      },
      "source": [
        "## Modeling"
      ]
    },
    {
      "cell_type": "markdown",
      "metadata": {
        "id": "wjUMtdp3BtRB"
      },
      "source": [
        "####Creating a baseline model\n",
        "\n",
        "Let's create a baseline model, applying a semi-naive calculation: we'll create sub-groups by using four characteristics deemed important from a business standpoint: the customer type, the travel type, the travel class, and the flight distance. We'll then make a prediction by taking the mean satisfaction of each subgroup, rounded to 0 or 1:"
      ]
    },
    {
      "cell_type": "code",
      "metadata": {
        "id": "grBRsQT9Aq9w",
        "colab": {
          "base_uri": "https://localhost:8080/",
          "height": 451
        },
        "outputId": "14f1c188-e7f4-4d6b-cc99-c5b27df9231c"
      },
      "source": [
        "baseline = round(train.groupby(['customer_type', 'travel_type', 'travel_class', pd.cut(train.flight_distance, 3)]).satisfaction.transform('mean'), 0)\n",
        "cm = confusion_matrix(train.satisfaction, baseline, normalize='all')\n",
        "ax = sns.heatmap(cm, annot=True, fmt='.2g', cmap='coolwarm', annot_kws={\"size\":12}, vmin=0, vmax=1);\n",
        "ax.set_xlabel('Predicted labels');\n",
        "ax.set_ylabel('True labels'); \n",
        "ax.set_title('Confusion Matrix: Baseline'); \n",
        "ax.xaxis.set_ticklabels(['dissatisfied', 'satisfied']);\n",
        "ax.yaxis.set_ticklabels(['dissatisfied', 'satisfied']);\n",
        "print(classification_report(train.satisfaction, baseline))"
      ],
      "execution_count": null,
      "outputs": [
        {
          "output_type": "stream",
          "text": [
            "              precision    recall  f1-score   support\n",
            "\n",
            "           0       0.81      0.84      0.82     54947\n",
            "           1       0.77      0.73      0.75     40757\n",
            "\n",
            "    accuracy                           0.79     95704\n",
            "   macro avg       0.79      0.79      0.79     95704\n",
            "weighted avg       0.79      0.79      0.79     95704\n",
            "\n"
          ],
          "name": "stdout"
        },
        {
          "output_type": "display_data",
          "data": {
            "image/png": "[encoded data removed]",
            "text/plain": [
              "<Figure size 432x288 with 2 Axes>"
            ]
          },
          "metadata": {
            "tags": [],
            "needs_background": "light"
          }
        }
      ]
    },
    {
      "cell_type": "markdown",
      "metadata": {
        "id": "ddEmYBXTpaBk"
      },
      "source": [
        "So our baseline model is not so bad... in order to justify a machine learning model, we'll need to to significantly better :)"
      ]
    },
    {
      "cell_type": "markdown",
      "metadata": {
        "id": "ftUpQj0et1E2"
      },
      "source": [
        "####Split data into test and train"
      ]
    },
    {
      "cell_type": "code",
      "metadata": {
        "id": "OJQ77GsS5o4_"
      },
      "source": [
        "train_sample = train.sample(10000, random_state=1)\n",
        "X_train = train_sample.loc[:, 'gender':'age_woe']\n",
        "y_train = train_sample['satisfaction']\n",
        " \n",
        "X_test = test.loc[:, 'gender':'age_woe']\n",
        "y_test = test['satisfaction']"
      ],
      "execution_count": null,
      "outputs": []
    },
    {
      "cell_type": "code",
      "metadata": {
        "id": "yYiD93Twsz01"
      },
      "source": [
        "X_train = train.loc[:, 'gender':'age_woe']\n",
        "y_train = train['satisfaction']\n",
        "\n",
        "X_test = test.loc[:, 'gender':'age_woe']\n",
        "y_test = test['satisfaction']"
      ],
      "execution_count": null,
      "outputs": []
    },
    {
      "cell_type": "markdown",
      "metadata": {
        "id": "9XOEGhgbt5IT"
      },
      "source": [
        "####Normalize all Features"
      ]
    },
    {
      "cell_type": "code",
      "metadata": {
        "id": "c60mcdfP3g6Y"
      },
      "source": [
        "scaler = StandardScaler()\n",
        "X_train[X_train.columns] = scaler.fit_transform(X_train)\n",
        "X_test[X_test.columns] = scaler.fit_transform(X_test)"
      ],
      "execution_count": null,
      "outputs": []
    },
    {
      "cell_type": "markdown",
      "metadata": {
        "id": "aUtdJiG3Sk5-"
      },
      "source": [
        "####Create a general model handling class"
      ]
    },
    {
      "cell_type": "code",
      "metadata": {
        "id": "PDR0TnoWBSdy"
      },
      "source": [
        "class MM():\n",
        "    def __init__(self, model_name, X_train, y_train, model=None, search_params_dict=None,class_weight=None):\n",
        "        self.X_train = X_train\n",
        "        self.y_train = y_train\n",
        "        self.model_name = model_name\n",
        "        if class_weight is None:\n",
        "            self.class_weight= {1:0.3, 0:0.7} # put more emphasis on penalizing the miss-identification of a unstatisfied customer, thus prefering the precision metric over the recall  \n",
        "        else:\n",
        "            self.class_weight=class_weight\n",
        "        if model is None:\n",
        "            if 'logistic' in model_name.lower():\n",
        "                self.model = LogisticRegression(class_weight=self.class_weight,random_state=1)\n",
        "                self.search_params_dict = dict(C=uniform(loc=0, scale=4), penalty=['l2', 'none'])\n",
        "            elif 'forest' in model_name.lower():\n",
        "                self.model = RandomForestClassifier(class_weight=self.class_weight,random_state=1)\n",
        "                self.search_params_dict = {\"max_depth\":[3,5,7,10], \"min_samples_split\":[8,12,16,24,30],\"min_samples_leaf\":[50,100,150,200], \"n_estimators\":[100,250,500,750,1000,1500,2000],\n",
        "                                           \"max_features\": ['auto', 'sqrt',0.2]}\n",
        "            elif 'gbm' in model_name.lower():\n",
        "                fixed_params={\"class_weight\":self.class_weight,'objective': 'binary', 'metric': 'auc','is_unbalance':True,'bagging_freq':5,'boosting':'dart','num_boost_round':300,'early_stopping_rounds':30,'random_state':1}\n",
        "                self.model = lgb.LGBMClassifier(**fixed_params)\n",
        "                self.search_params_dict = {'learning_rate': uniform(loc=0.0001,scale=1), 'max_depth': [3,7,15],'num_leaves': [16,32,50],\n",
        "                                           'feature_fraction': uniform(0,1),'subsample': uniform(loc=0,scale=1)}\n",
        "            elif 'xgb' in model_name.lower():\n",
        "                self.model = xgb.XGBClassifier(class_weight=self.class_weight,silent=True, verbosity=0, random_state=1)\n",
        "                self.search_params_dict = {\"learning_rate\":uniform(loc=0.001,scale=1), \"max_depth\":[ 3, 4, 5, 6, 8, 10, 12, 15], \"min_child_weight\":[ 1, 3, 5, 7 ],\n",
        "                                    \"gamma\":uniform(loc=0.001,scale=1), \"colsample_bytree\" : np.linspace(0.2,0.7,5) }\n",
        "            elif 'catb' in model_name.lower():\n",
        "                self.model = CatBoostClassifier(class_weights=self.class_weight,verbose=False, random_state=1)\n",
        "                self.search_params_dict = {\"n_estimators\": [10, 50, 100,200,500,1000],\"learning_rate\":uniform(loc=0.0001,scale=1),\n",
        "                                    \"sampling_frequency\":[\"PerTree\",\"PerTreeLevel\"],\"max_depth\":[3,7,9,15,24]}\n",
        "        else:\n",
        "            self.model = model\n",
        "            self.search_params_dict = search_params_dict\n",
        "\n",
        "    def fit(self):\n",
        "        self.model.fit(self.X_train, self.y_train)\n",
        "        return self\n",
        "\n",
        "    def predict(self, X):\n",
        "        return self.model.predict(X)\n",
        "    \n",
        "    # calculate cross validation using AUC and accuracy, and return their mean and std\n",
        "    def score_model(self, X, y):\n",
        "        print('scoring' ,self.model_name)\n",
        "        results = pd.DataFrame()\n",
        "        results['classifier'] = [self.model_name]\n",
        "        cv = RepeatedKFold(n_splits=5, n_repeats=5, random_state=1)\n",
        "        scores = cross_val_score(estimator=self.model , X=X, y=y, cv=cv, scoring='precision', n_jobs=-1)\n",
        "        results['precision_mean'] = [scores.mean()]\n",
        "        results['precision_std'] = [scores.std()]\n",
        "        return (results, scores)\n",
        "\n",
        "    # calculate score after finding optimal parameters\n",
        "    def Randomized_Search_CV(self):\n",
        "        print('regularizing', self.model_name)\n",
        "        random_search=RandomizedSearchCV(self.model, self.search_params_dict,scoring='precision',cv=5,n_iter=10, random_state=0)\n",
        "        random_search.fit(self.X_train, self.y_train)        \n",
        "        self.best_params = random_search.best_params_\n",
        "        self.best_score = random_search.best_score_\n",
        "        self.model = random_search.best_estimator_\n",
        "        results, scores = self.score_model(self.X_train, self.y_train)\n",
        "        results['best_randomized_params'] = [self.best_params]\n",
        "        results['best_randomized_score'] = [self.best_score]\n",
        "        return (results, scores)"
      ],
      "execution_count": null,
      "outputs": []
    },
    {
      "cell_type": "markdown",
      "metadata": {
        "id": "j5KPEwFHCA35"
      },
      "source": [
        "####Create, optimize, and score instances of different models"
      ]
    },
    {
      "cell_type": "code",
      "metadata": {
        "id": "tQRdGAAIVxqs"
      },
      "source": [
        "def add_model(model_name, model=None, search_params_dict=None):\n",
        "    global optimized_classifiers, results\n",
        "    \n",
        "    mm = MM(model_name, X_train, y_train, model, search_params_dict)\n",
        "    model_results, model_scores = mm.Randomized_Search_CV()\n",
        "    optimized_classifiers.append(mm)\n",
        "    results = pd.concat([results, model_results])\n",
        "    scores[model_name] = model_scores\n",
        "\n",
        "def get_clf(model_name):\n",
        "    global optimized_classifiers\n",
        "\n",
        "    clf_index = [clf.model_name.lower() for clf in optimized_classifiers].index(model_name.lower())\n",
        "    return optimized_classifiers[clf_index]    "
      ],
      "execution_count": null,
      "outputs": []
    },
    {
      "cell_type": "code",
      "metadata": {
        "id": "4GUR9yFTWU4q",
        "colab": {
          "base_uri": "https://localhost:8080/"
        },
        "outputId": "d39c67e9-7a52-4cf9-b4c9-0b540dee44f7"
      },
      "source": [
        "if not pre_calc:\n",
        "    optimized_classifiers = list()\n",
        "    results = pd.DataFrame()\n",
        "    scores = pd.DataFrame()\n",
        "    add_model('Random Forest')\n",
        "    add_model('Logistic Regression')\n",
        "    add_model('LightGBM')\n",
        "    add_model('XGBoost')\n",
        "    add_model('CATBoost')"
      ],
      "execution_count": null,
      "outputs": [
        {
          "output_type": "stream",
          "text": [
            "regularizing Random Forest\n",
            "scoring Random Forest\n",
            "regularizing Logistic Regression\n",
            "scoring Logistic Regression\n",
            "regularizing LightGBM\n",
            "scoring LightGBM\n",
            "regularizing XGBoost\n",
            "scoring XGBoost\n",
            "regularizing CATBoost\n"
          ],
          "name": "stdout"
        }
      ]
    },
    {
      "cell_type": "markdown",
      "metadata": {
        "id": "XeQfdJf2D38z"
      },
      "source": [
        "#### Add bagging classifiers"
      ]
    },
    {
      "cell_type": "code",
      "metadata": {
        "id": "mBcmcKyhD3N2"
      },
      "source": [
        "if not pre_calc:\n",
        "    logistic_clf = get_clf('logistic regression').model\n",
        "    bagging_log_clf = BaggingClassifier(base_estimator=logistic_clf, n_estimators=100, random_state=1)\n",
        "    bagging_log_params_grid = {'n_estimators': [50, 100, 200]}\n",
        "    add_model('Log-Bagging', bagging_log_clf, bagging_log_params_grid)\n",
        "\n",
        "    dt_clf = DecisionTreeClassifier(max_depth=5)\n",
        "    bagging_dt_clf = BaggingClassifier(base_estimator=dt_clf, n_estimators=100, random_state=1)\n",
        "    bagging_dt_params_grid = {'n_estimators': [100, 200, 300], 'base_estimator__max_depth': [5, 10, 20]}\n",
        "    add_model('Dtree-Bagging', bagging_dt_clf, bagging_dt_params_grid)\n",
        "\n",
        "    knn_clf = KNeighborsClassifier(n_neighbors=5)\n",
        "    bagging_knn_clf = BaggingClassifier(base_estimator=knn_clf, n_estimators=100, random_state=1)\n",
        "    bagging_knn_params_grid = {'n_estimators': [50, 100, 200], 'base_estimator__n_neighbors': [5, 10, 20]}\n",
        "    add_model('KNN-Bagging', bagging_knn_clf, bagging_knn_params_grid)"
      ],
      "execution_count": null,
      "outputs": []
    },
    {
      "cell_type": "markdown",
      "metadata": {
        "id": "derDTD6hKfj5"
      },
      "source": [
        "####Add a voting classifier"
      ]
    },
    {
      "cell_type": "code",
      "metadata": {
        "id": "-5JQpB-b31v8"
      },
      "source": [
        "if not pre_calc:\n",
        "    # changed to lightGBM - since it got better results\n",
        "    voting_estimators = (\n",
        "        ('LightGBM', get_clf('xgboost').model),\n",
        "        ('catboost', get_clf('catboost').model)\n",
        "    )\n",
        "    voting_clf = VotingClassifier(estimators=voting_estimators, voting='soft')\n",
        "    vote_rng = np.arange(0.1, 1.1, 0.1)\n",
        "    vote_grid = [[i,j] for i in vote_rng for j in vote_rng]\n",
        "    voting_params_grid = {'weights': vote_grid}\n",
        "    add_model('Voting', voting_clf, voting_params_grid)"
      ],
      "execution_count": null,
      "outputs": []
    },
    {
      "cell_type": "markdown",
      "metadata": {
        "id": "xfFCsRR--Ew1"
      },
      "source": [
        "#### Add boosting (and more bagging) classifiers\n",
        "\n",
        "\n"
      ]
    },
    {
      "cell_type": "code",
      "metadata": {
        "id": "f8SI10td-NyH"
      },
      "source": [
        "if not pre_calc:\n",
        "    # Adaboost: logistic\n",
        "    logistic_clf = get_clf('logistic regression').model\n",
        "    adaboost_log_clf = AdaBoostClassifier(base_estimator=logistic_clf, n_estimators=200, learning_rate=0.01, random_state=1)\n",
        "    adaboost_log_params_grid = {'n_estimators': [100, 200, 300], 'learning_rate': [0.001, 0.01, 0.1]}\n",
        "    add_model('Log-Adaboost', adaboost_log_clf, adaboost_log_params_grid)\n",
        "\n",
        "    # Gradient boost (desicion-tree based)\n",
        "    grdboost_clf = GradientBoostingClassifier(max_depth=3, n_estimators=200, learning_rate=0.01, random_state=1)\n",
        "    grdboost_params_grid = {'max_depth': [3, 4, 5], 'n_estimators': [50, 100, 200], 'learning_rate': [0.01, 0.02, 0.03]}\n",
        "    add_model('Log-GradientBoost', grdboost_clf, grdboost_params_grid)"
      ],
      "execution_count": null,
      "outputs": []
    },
    {
      "cell_type": "markdown",
      "metadata": {
        "id": "QoxK35eDQVIc"
      },
      "source": [
        "## Model Selection"
      ]
    },
    {
      "cell_type": "markdown",
      "metadata": {
        "id": "DwuGzmuEcrEJ"
      },
      "source": [
        "####View results of all classifiers\n",
        "*(or, if pre_calc is true, load the pre-calculated results,scores,optimized_classifiers after the RandomizedSearchCv + CrossvalidationScoring procedures)*"
      ]
    },
    {
      "cell_type": "code",
      "metadata": {
        "id": "Ltv0xBaWaqyr"
      },
      "source": [
        "if pre_calc:\n",
        "    # load scores:\n",
        "    gdd.download_file_from_google_drive(file_id='1XVChhW9ArgeHBwbMHfs1UgmWjpm8Cdcn', dest_path='./scores')\n",
        "    scores= pd.read_pickle('scores')\n",
        "    # load results:\n",
        "    gdd.download_file_from_google_drive(file_id='1L3JmSqJdPEcV7_bjnAwom-fr3c78laIA', dest_path='./results_after_optimization')\n",
        "    results=pd.read_pickle(\"results_after_optimization\")\n",
        "    # load optimized classifiers:\n",
        "    gdd.download_file_from_google_drive(file_id='12h6RTgnxtfzFdA64QqJcusq2EIhxbpUk', dest_path='./optimized_classifiers')\n",
        "    optimized_classifiers=pd.read_pickle(\"optimized_classifiers\")"
      ],
      "execution_count": null,
      "outputs": []
    },
    {
      "cell_type": "markdown",
      "metadata": {
        "id": "fctYDoNlloZB"
      },
      "source": [
        "results after optimization:"
      ]
    },
    {
      "cell_type": "code",
      "metadata": {
        "id": "s8g4mnztlqTm"
      },
      "source": [
        "results.sort_values(by=\"best_randomized_score\",ascending=False)"
      ],
      "execution_count": null,
      "outputs": []
    },
    {
      "cell_type": "markdown",
      "metadata": {
        "id": "5sB0hahmZzzh"
      },
      "source": [
        "Precision based on the cross-validation results vectors"
      ]
    },
    {
      "cell_type": "code",
      "metadata": {
        "id": "tmF0xOtph0zm"
      },
      "source": [
        "plt.subplots(figsize=(10,5))\n",
        "sns.boxplot(data=scores)\n",
        "plt.xticks(fontsize=14)\n",
        "plt.xticks(rotation=45, ha='right');\n",
        "plt.title('Precision per CV results')\n",
        "plt.show()"
      ],
      "execution_count": null,
      "outputs": []
    },
    {
      "cell_type": "markdown",
      "metadata": {
        "id": "eGFgjQRpa1B5"
      },
      "source": [
        "As we can see, the **CatBoostClassifier** gets the best results, while being simpler than the 2nd & 3rd in line, which are the voting classifier and Log-Adaboost.\n",
        "\n",
        "in the below ROC curves, the **Xgbclassifier curve** is the closest to a perfect curve, overtaking all the others"
      ]
    },
    {
      "cell_type": "markdown",
      "metadata": {
        "id": "vsIuZ_KPSUpE"
      },
      "source": [
        "Show ROC curve for all models"
      ]
    },
    {
      "cell_type": "code",
      "metadata": {
        "id": "BfEz-b_MJFzd"
      },
      "source": [
        "final = get_clf('CatBoost')\n",
        "final_model=final.model\n",
        "fix, ax = plt.subplots(figsize=(16,8))\n",
        "for i,clf in enumerate(optimized_classifiers):\n",
        "    if i==8:\n",
        "        continue\n",
        "    fig = plot_roc_curve(clf.model, X_train, y_train, ax=ax)\n",
        "fig.figure_.suptitle(\"ROC curve comparison\")\n",
        "plt.xlim(0,1)\n",
        "plt.show()"
      ],
      "execution_count": null,
      "outputs": []
    },
    {
      "cell_type": "markdown",
      "metadata": {
        "id": "IMdnhL4DP2tR"
      },
      "source": [
        "## Model Inspection"
      ]
    },
    {
      "cell_type": "markdown",
      "metadata": {
        "id": "gTSnQ_ODZY3i"
      },
      "source": [
        "####Selected model confusion matrix: train vs. test"
      ]
    },
    {
      "cell_type": "code",
      "metadata": {
        "id": "ZQTsH41ZP3oc"
      },
      "source": [
        "y_train_pred = final_model.predict(X_train)\n",
        "y_test_pred = final_model.predict(X_test)\n",
        "\n",
        "fig, axs = plt.subplots(1, 2, figsize=(10,5))\n",
        "for i, data, split in zip(range(2), [(y_train, y_train_pred), (y_test, y_test_pred)], ['Train', 'Test']):\n",
        "    cm = confusion_matrix(*data, normalize='all')\n",
        "    ax = sns.heatmap(cm, annot=True, fmt='.2g', cmap='coolwarm', annot_kws={\"size\":12}, vmin=0, vmax=1, ax=axs[i]);\n",
        "    ax.set_xlabel('Predicted labels');\n",
        "    ax.set_ylabel('True labels'); \n",
        "    ax.set_title(split, fontsize=16)\n",
        "    ax.xaxis.set_ticklabels(['dissatisfied', 'satisfied'])\n",
        "    ax.yaxis.set_ticklabels(['dissatisfied', 'satisfied'])\n",
        "fig.tight_layout()"
      ],
      "execution_count": null,
      "outputs": []
    },
    {
      "cell_type": "markdown",
      "metadata": {
        "id": "WPf75THwCyME"
      },
      "source": [
        "Classification reports"
      ]
    },
    {
      "cell_type": "code",
      "metadata": {
        "id": "a6H5xbyzLh1A"
      },
      "source": [
        "print(classification_report(y_train, y_train_pred))"
      ],
      "execution_count": null,
      "outputs": []
    },
    {
      "cell_type": "code",
      "metadata": {
        "id": "nDPJsZemLp_d"
      },
      "source": [
        "print(classification_report(y_test, y_test_pred))"
      ],
      "execution_count": null,
      "outputs": []
    },
    {
      "cell_type": "markdown",
      "metadata": {
        "id": "1NQX8S_XLS5X"
      },
      "source": [
        "#### Model Visualization"
      ]
    },
    {
      "cell_type": "markdown",
      "metadata": {
        "id": "yRatUKQ7KMaC"
      },
      "source": [
        "First levels of the best_iteration CatBoost tree"
      ]
    },
    {
      "cell_type": "code",
      "metadata": {
        "id": "dnvarvqd9KuI"
      },
      "source": [
        "from catboost import CatBoostClassifier, Pool\n",
        "X=X_train.sample(10000)\n",
        "y=y_train.sample(10000)\n",
        "# show visulization on subset of data - clearer plot \n",
        "is_cat = (X.dtypes != float)\n",
        "for feature, feat_is_cat in is_cat.to_dict().items():\n",
        "    if feat_is_cat:\n",
        "        X[feature].fillna(\"NAN\", inplace=True)\n",
        "cat_features_index = np.where(is_cat)[0]\n",
        "pool = Pool(X, y, cat_features=cat_features_index, feature_names=list(X.columns))\n",
        "\n",
        "final_model.plot_tree(\n",
        "    tree_idx=0,\n",
        "    pool=pool)"
      ],
      "execution_count": null,
      "outputs": []
    },
    {
      "cell_type": "markdown",
      "metadata": {
        "id": "E52i-9XdyHa9"
      },
      "source": [
        "Feature importance"
      ]
    },
    {
      "cell_type": "code",
      "metadata": {
        "id": "p2JWmJQPyIe3"
      },
      "source": [
        "feat_importances = pd.Series(final_model.feature_importances_, index=X_train.columns).sort_values(ascending=False)\n",
        "feat_importances.nlargest(15).plot(kind='barh')"
      ],
      "execution_count": null,
      "outputs": []
    },
    {
      "cell_type": "markdown",
      "metadata": {
        "id": "B655hGRB6riJ"
      },
      "source": [
        "Decision region plotting :\n",
        "\n",
        "Take worst preforming estimator(logistic regression), best performing estimator(CatBoost), and plot their decision region visulization based on 3-D feature space, the space will be picked according to most imporant features to the model"
      ]
    },
    {
      "cell_type": "markdown",
      "metadata": {
        "id": "iUexBZ1T6-_G"
      },
      "source": [
        "* features importance are the exact same in all models, we will use the top 3 as our 3-D feautre space for plotting the decision boundary"
      ]
    },
    {
      "cell_type": "code",
      "metadata": {
        "id": "0Zx5tV226sy8"
      },
      "source": [
        "top_3_features=['travel_type','inflight_wifi','customer_type']\n",
        "X_train_important=X_train[top_3_features]\n",
        "X_test_important=X_test[top_3_features]\n",
        "# adjust the models fitting based on top features only\n",
        "final_model.fit(X_train_important,y_train)\n",
        "opt_logistic=get_clf(\"logistic regression\").model\n",
        "opt_logistic.fit(X_train_important,y_train)\n",
        "X_train_Space = np.asarray(X_train_important, dtype=np.float32)\n",
        "X_test_Space= np.asarray(X_test_important, dtype=np.float32)\n",
        "train_target=np.asarray(y_train)\n",
        "test_target=np.asarray(y_test)\n",
        "print(f\"classification report on new feature space:\\n\\nlogistic regression:\\n{classification_report(y_test,opt_logistic.predict(X_test_important))}\\nCatBoost:\\n{classification_report(y_test,final_model.predict(X_test_important))}\")\n",
        "# plotting decision regions:\n",
        "gs = gridspec.GridSpec(2,2)\n",
        "gs_positions=list(product([0,1],repeat=2))\n",
        "models=[opt_logistic,opt_logistic,final_model,final_model] \n",
        "features=[X_train_Space,X_test_Space,X_train_Space,X_test_Space]\n",
        "targets=[train_target,test_target,train_target,test_target]\n",
        "labels=[\"logistic regression train\",\"logistic regresion test\",\"CatBoost train\",\"CatBoost test\"] \n",
        "plt.figure(figsize=(12,10))\n",
        "for clf, lab, pos,ft,tr in zip(models,labels,gs_positions,features,targets):\n",
        "    ax = plt.subplot(gs[pos[0], pos[1]])\n",
        "    fig = plot_decision_regions(X=ft, y=tr, clf=clf,\n",
        "                            filler_feature_values={2: 0.0001}, \n",
        "                            filler_feature_ranges={2: 5},\n",
        "                           legend=2)\n",
        "    \n",
        "    handles, names = ax.get_legend_handles_labels()\n",
        "    plt.title(lab)\n",
        "    plt.legend(handles,['unsatisfied', 'satisfied'],loc='upper left',fontsize='small')\n",
        "plt.show()"
      ],
      "execution_count": null,
      "outputs": []
    },
    {
      "cell_type": "markdown",
      "metadata": {
        "id": "7UMB3RF17DdH"
      },
      "source": [
        "first of all, looking at these plots, we can see that the CatBoostClassifier is a valid model, since the plots on the train and test data set and very simillar\n",
        "\n",
        "logisitc regression: bad precision, bad recall\n",
        "\n",
        "catBoost: good precision , terrible recall\n",
        "\n",
        "as can be seen from the plots, CatBoostClassifier  is able to capture non-linear boundaries, both models exhibit good precision in these visulizations, but mainly show poor recall ability , which is influened by our weights division"
      ]
    },
    {
      "cell_type": "markdown",
      "metadata": {
        "id": "FdV3ZMmeYjvu"
      },
      "source": [
        "#### Error Analysis"
      ]
    },
    {
      "cell_type": "markdown",
      "metadata": {
        "id": "7MvvTfFf7HH3"
      },
      "source": [
        "Prediction vs target Distribution"
      ]
    },
    {
      "cell_type": "code",
      "metadata": {
        "id": "ijbd3Yf8tBD5"
      },
      "source": [
        "plt.figure(figsize=(5,5))\n",
        "plt.subplot(2,1,1)\n",
        "plt.title(\"Prediction Vs Target Distribution\",fontsize=18)\n",
        "sns.distplot(final_model.predict(X_test))\n",
        "plt.xlabel(\"predicion distribution\",fontsize=12)\n",
        "plt.subplot(2,1,2)\n",
        "sns.distplot(y_test)\n",
        "plt.xlabel(\"target distribution\",fontsize=12)"
      ],
      "execution_count": null,
      "outputs": []
    },
    {
      "cell_type": "markdown",
      "metadata": {
        "id": "Sgh0pow67Kd6"
      },
      "source": [
        "* same distribution in both target and predicted outcome"
      ]
    },
    {
      "cell_type": "code",
      "metadata": {
        "id": "Vcawudql7MCJ"
      },
      "source": [
        "# refit the data on the whole training set\n",
        "final_model.fit(X_train,y_train)\n",
        "wrong_index=y_test[(y_test-final_model.predict(X_test))!=0].index # get row locations of missclassifications\n",
        "miss_classified_features=X_test.loc[wrong_index,:]\n",
        "miss_classified_target=y_test.loc[wrong_index]\n",
        "f\"the percentage of miss classified data points out of all dataset is: {round((miss_classified_target.shape[0]/X_test.shape[0]),3)*100}%\""
      ],
      "execution_count": null,
      "outputs": []
    },
    {
      "cell_type": "markdown",
      "metadata": {
        "id": "5dl26UWZ7NmU"
      },
      "source": [
        "divide the errors to misses - (recall errors) and false alarms -( precision errors)\n",
        "\n",
        "\n"
      ]
    },
    {
      "cell_type": "code",
      "metadata": {
        "id": "pR8DkWI57PYE"
      },
      "source": [
        "# miss (actual=1,prediction=0) : recall mistake\n",
        "miss_classified_target_recall=miss_classified_target[miss_classified_target==1]\n",
        "miss_classified_features_recall=X_test.loc[miss_classified_target_recall.index,:]\n",
        "print(f\"the percentage of recall type of missclassification is: {round((miss_classified_target_recall.shape[0]/X_test.shape[0]),3)*100}%\")\n",
        "print()\n",
        "miss_classified_features_recall.mean()"
      ],
      "execution_count": null,
      "outputs": []
    },
    {
      "cell_type": "markdown",
      "metadata": {
        "id": "EnQd4rpV7RC2"
      },
      "source": [
        "* almost all of the mistakes are recall mistakes, which is what we wanted for our business problem\n",
        "* on average , the features values in these cases are negative, which makes sense since it encourages the model to miss-classify it as unstaisfied based on its previous experience from the train model, where in this case it actually indicates a satisfied customer, this can also lead us to think that our model suffers from population stability, since this shows a different population distribution and miss classification"
      ]
    },
    {
      "cell_type": "code",
      "metadata": {
        "id": "PPHFAeGg7Ssk"
      },
      "source": [
        "# looking at false alarms (precision mistakes) (actual=0,prediction=1)\n",
        "miss_classified_target_precision=miss_classified_target[miss_classified_target==0]\n",
        "miss_classified_features_precision=X_test.loc[miss_classified_target_precision.index,:]\n",
        "miss_classified_features_precision.mean()"
      ],
      "execution_count": null,
      "outputs": []
    },
    {
      "cell_type": "markdown",
      "metadata": {
        "id": "ywv2h9Lp7V9b"
      },
      "source": [
        "* here it is almost the opposite case, most values on average are positive, which leads the model to wrongfully classify the data as satisfied, when in reality the customer is unstaisfied"
      ]
    },
    {
      "cell_type": "markdown",
      "metadata": {
        "id": "hLA0nwxM7YOs"
      },
      "source": [
        "Group Level Errors:\n",
        "\n",
        "see average combination of values, for a subgroup in the data that lead to errors  , we chose the 4 important features previously discovered to account for this group"
      ]
    },
    {
      "cell_type": "code",
      "metadata": {
        "id": "Hd53FcAl7bHq"
      },
      "source": [
        "miss_classified_features[['inflight_wifi','travel_type','travel_class','online_boarding']].hist()\n",
        "print(miss_classified_features[['inflight_wifi','travel_type','travel_class','online_boarding']].median())"
      ],
      "execution_count": null,
      "outputs": []
    },
    {
      "cell_type": "markdown",
      "metadata": {
        "id": "sUvxtMDx7c8j"
      },
      "source": [
        "the average value in each column is a scaled value, to interpret what it means, we need to look back at the origional column values, and see which value is the closest to the scaled averages of this subgroup"
      ]
    },
    {
      "cell_type": "code",
      "metadata": {
        "id": "vzNb2VAI7eTm"
      },
      "source": [
        "train.travel_type.unique()\n",
        "print(\"inflight wifi:\")\n",
        "print()\n",
        "print(\"before scaling:\")\n",
        "print(list(pd.Series(train.inflight_wifi.unique()).sort_values()))\n",
        "print()\n",
        "print(\"after scaling:\")\n",
        "print(list(pd.Series(miss_classified_features.inflight_wifi.unique()).sort_values()))\n",
        "print()\n",
        "print(\"travel class:\")\n",
        "print()\n",
        "print(\"before scaling:\")\n",
        "print(list(pd.Series(train.travel_class.unique()).sort_values()))\n",
        "print()\n",
        "print(\"after scaling:\")\n",
        "print(list(pd.Series(miss_classified_features.travel_class.unique()).sort_values()))\n",
        "print()\n",
        "print(\"travel type:\")\n",
        "print()\n",
        "print(\"before scaling:\")\n",
        "print(list(pd.Series(train.travel_type.unique()).sort_values()))\n",
        "print()\n",
        "print(\"after scaling:\")\n",
        "print(list(pd.Series(miss_classified_features.travel_type.unique()).sort_values()))\n",
        "print()\n",
        "print(\"online boarding:\")\n",
        "print()\n",
        "print(\"before scaling:\")\n",
        "print(list(pd.Series(train.online_boarding.unique()).sort_values()))\n",
        "print()\n",
        "print(\"after scaling\")\n",
        "print(list(pd.Series(miss_classified_features.online_boarding.unique()).sort_values()))\n",
        "print()"
      ],
      "execution_count": null,
      "outputs": []
    },
    {
      "cell_type": "markdown",
      "metadata": {
        "id": "3rmWfRf67f6w"
      },
      "source": [
        "* inflight wifi = 0.95 (closest to 3- average level of wifi satisfaction )\n",
        "\n",
        "* travel type = 0.66 (closest to 1 - business travel)\n",
        "\n",
        "* travel class  = -1.08 (closest to 0 - eco )\n",
        "\n",
        "* online boarding = 0.51 (closest to 4- high level of satisfaction regarding online boarding)\n",
        "\n",
        "* average combination of values, some are high, some are average, and some are low which misleads the model\n"
      ]
    },
    {
      "cell_type": "markdown",
      "metadata": {
        "id": "LgGK2sXGs45E"
      },
      "source": [
        "#### Sensitivity Analysis"
      ]
    },
    {
      "cell_type": "markdown",
      "metadata": {
        "id": "y3UORDcTYb75"
      },
      "source": [
        "Conclusions:\n",
        "\n",
        "\n",
        "1.   The most important features are travel_type and inflight_wifi, \n",
        "\n",
        "2.   Many features have low sensitivity and little value - this may call for reducing number of features by removing the least important ones, or using regularization\n"
      ]
    },
    {
      "cell_type": "code",
      "metadata": {
        "id": "75pRefMl82n2"
      },
      "source": [
        "feature_names = X_train.columns.tolist()\n",
        "pytrust = PyTrust(\n",
        "    model=final.model,\n",
        "    xtrain=X_train, ytrain=y_train,\n",
        "    xtest=X_test[:10000], ytest=y_test[:10000],\n",
        "    columns_meta={DMD.FEATURE_NAMES: feature_names},\n",
        "    metric='auc')\n",
        "report = pytrust.sensitivity_report\n",
        "report.plot()"
      ],
      "execution_count": null,
      "outputs": []
    },
    {
      "cell_type": "code",
      "metadata": {
        "id": "BLnJnwwM3DAb"
      },
      "source": [
        "pprint(report.to_dict(), width=120)"
      ],
      "execution_count": null,
      "outputs": []
    },
    {
      "cell_type": "markdown",
      "metadata": {
        "id": "u-lU-EQ1YYsl"
      },
      "source": [
        "#### Stability Analysis"
      ]
    },
    {
      "cell_type": "markdown",
      "metadata": {
        "id": "YF1t3Mrt7r-U"
      },
      "source": [
        "\n",
        "a) testing our models on different subsets of the data (of same size), and monitoring its accuracy to different subsets of data\n"
      ]
    },
    {
      "cell_type": "code",
      "metadata": {
        "id": "JOYZJbI5Ygn7"
      },
      "source": [
        "# take 4 different subsets consisting of 10000 samples, and check the models performance on all of them\n",
        "final_model.fit(X_train,y_train)\n",
        "accs=[]\n",
        "y_trained=y_train.sample(10000)\n",
        "y_tested=y_test.sample(10000)\n",
        "sub11=X_train.sample(10000)\n",
        "sub12=X_test.sample(10000)\n",
        "final_model.fit(sub11,y_trained)\n",
        "accs.append(accuracy_score(y_tested,final_model.predict(sub12)))\n",
        "sub21=X_train.sample(10000)\n",
        "sub22=X_test.sample(10000)\n",
        "final_model.fit(sub21,y_trained)\n",
        "accs.append(accuracy_score(y_tested,final_model.predict(sub22)))\n",
        "sub31=X_train.sample(10000)\n",
        "sub32=X_test.sample(10000)\n",
        "final_model.fit(sub31,y_trained)\n",
        "accs.append(accuracy_score(y_tested,final_model.predict(sub32)))\n",
        "sub41=X_train.sample(10000)\n",
        "sub42=X_test.sample(10000)\n",
        "final_model.fit(sub41,y_trained)\n",
        "accs.append(accuracy_score(y_tested,final_model.predict(sub42)))\n",
        "print(list(zip([\"first subset accuracy->\",\"second subset accuracy->\",\"third subset acacuracy->\",\"fourth subset accuracy->\"],accs)))"
      ],
      "execution_count": null,
      "outputs": []
    },
    {
      "cell_type": "markdown",
      "metadata": {
        "id": "CGrCurWf7wH4"
      },
      "source": [
        "* similar accuracy in different subsets of data"
      ]
    },
    {
      "cell_type": "markdown",
      "metadata": {
        "id": "EsbyFo-c7xyd"
      },
      "source": [
        "b) Population Stability Index (PSI) : we want to measure how much our predicted outcome has shifted in distribution  between two different samples of a population,  it’s a good indication if the model has stopped predicting accurately due to significant changes in the population distribution that can occur as a result of a economic crisis, or wrong data sourcing etc....."
      ]
    },
    {
      "cell_type": "markdown",
      "metadata": {
        "id": "9j0n-p1970qZ"
      },
      "source": [
        "* sorting all columns to ensure significant changes in the population distribution"
      ]
    },
    {
      "cell_type": "code",
      "metadata": {
        "id": "ihPCCdaR715t"
      },
      "source": [
        " # sort by descending order so we can check the effect of sampling, since we want different samples\n",
        " # to have different distributions in a data where most of its features are categorical thus not ordering it results in simillar distribution for different samples\n",
        "odd_population=X_test.apply(lambda x: x.sort_values(ascending=False).values)\n",
        "expected_population=X_test.sample(10000)  # a population that the model expects to have\n",
        "expected_scores=final_model.predict(expected_population)\n",
        "unexpected_population=odd_population.tail(10000) # a population with a new distribution odd to the model\n",
        "unexpected_scores=final_model.predict(unexpected_population)\n",
        "print(\"expected population:\")\n",
        "expected_population.hist(bins=15, color='steelblue', edgecolor='black', linewidth=1.0,\n",
        "           xlabelsize=8, ylabelsize=8, grid=False)  \n",
        "plt.tight_layout(rect=(0, 0, 2, 2))   "
      ],
      "execution_count": null,
      "outputs": []
    },
    {
      "cell_type": "code",
      "metadata": {
        "id": "0ytg2W3E73t8"
      },
      "source": [
        "print(\"new population distribution:\")\n",
        "unexpected_population.hist(bins=15, color='steelblue', edgecolor='black', linewidth=1.0,\n",
        "           xlabelsize=8, ylabelsize=8, grid=False)  \n",
        "plt.tight_layout(rect=(0, 0, 2, 2))"
      ],
      "execution_count": null,
      "outputs": []
    },
    {
      "cell_type": "markdown",
      "metadata": {
        "id": "3CCrnxBj77w_"
      },
      "source": [
        "* we can see that the populations are different in terms of distribution in some feautres"
      ]
    },
    {
      "cell_type": "code",
      "metadata": {
        "id": "8aJX9Ry6767P"
      },
      "source": [
        " def psi(expected_array, actual_array, buckets,buckettype):\n",
        "        \"\"\"function which aids us in understanding how much our prediction has shifted\n",
        "        in distribution between two samples\"\"\"\n",
        "        def scale_range (input, min, max):\n",
        "            input += -(np.min(input))\n",
        "            input /= np.max(input) / (max - min)\n",
        "            input += min\n",
        "            return input\n",
        "\n",
        "\n",
        "        breakpoints = np.arange(0, buckets + 1) / (buckets) * 100\n",
        "\n",
        "        if buckettype == 'bins':\n",
        "            breakpoints = scale_range(breakpoints, np.min(expected_array), np.max(expected_array))\n",
        "        elif buckettype == 'quantiles':\n",
        "            breakpoints = np.stack([np.percentile(expected_array, b) for b in breakpoints])\n",
        "\n",
        "\n",
        "\n",
        "        expected_percents = np.histogram(expected_array, breakpoints)[0] / len(expected_array)\n",
        "        actual_percents = np.histogram(actual_array, breakpoints)[0] / len(actual_array)\n",
        "\n",
        "        def sub_psi(e_perc, a_perc):\n",
        "            '''Calculate the actual PSI value from comparing the values.\n",
        "               Update the actual value to a very small number if equal to zero\n",
        "            '''\n",
        "            if a_perc == 0:\n",
        "                a_perc = 0.0001\n",
        "            if e_perc == 0:\n",
        "                e_perc = 0.0001\n",
        "\n",
        "            value = (e_perc - a_perc) * np.log(e_perc / a_perc)\n",
        "            return(value)\n",
        "\n",
        "        psi_value = np.sum(sub_psi(expected_percents[i], actual_percents[i]) for i in range(0, len(expected_percents)))\n",
        "\n",
        "        return(psi_value)\n",
        "psi_value=psi(expected_scores,unexpected_scores,10,'bins')\n",
        "f'final model population stability index value: {psi_value}'"
      ],
      "execution_count": null,
      "outputs": []
    },
    {
      "cell_type": "markdown",
      "metadata": {
        "id": "m-t_rF6x8BhA"
      },
      "source": [
        "Interpreation of the psi result:\n",
        "\n",
        "* PSI<0.1 --> no change is needed\n",
        "\n",
        "* 0.1=<PSI<=0.2 --> slight change is needed\n",
        "\n",
        "* PSI>= 0.2 --> significant change is required\n",
        "\n",
        "so in our case we don't need to make changes in the model\n"
      ]
    },
    {
      "cell_type": "markdown",
      "metadata": {
        "id": "j-LpizJi8SkU"
      },
      "source": [
        "* looking at the MSE plots, we can see that higher complexity leads to lower train error, which means lower bias, on the other hand it leads to increased test error, which means higher variance, our aim is to prune the model while not hurting the bias too much\n"
      ]
    },
    {
      "cell_type": "code",
      "metadata": {
        "id": "35HSkPAXpm1G"
      },
      "source": [
        "accuracy_score(y_test,final_model.fit(X_train,y_train).predict(X_test))"
      ],
      "execution_count": null,
      "outputs": []
    },
    {
      "cell_type": "markdown",
      "metadata": {
        "id": "mUdND01lCjK-"
      },
      "source": [
        "<font size=3>And now it's time for playing with the LIME package<br><br></font>![](https://raw.githubusercontent.com/amirashiri/airline/009cb498eefd69a999d4afc5107549e218d07629/lemon.jpg)\n",
        "<br><br>\n",
        "LIME = Local interpretable model-agnostic explanations, is a model-agnostic tool Local interpretable model-agnostic explanations, is a model-agnostic tool to display to relevan model's paramters, affecting any specific classification decision</font>"
      ]
    },
    {
      "cell_type": "code",
      "metadata": {
        "id": "iUeISKUxOjjB"
      },
      "source": [
        "explainer = lime_tabular.LimeTabularExplainer(\n",
        "    training_data=np.array(X_train),\n",
        "    feature_names=X_train.columns,\n",
        "    class_names=['dissatisfied', 'satisfied'],\n",
        "    mode='classification'\n",
        ")"
      ],
      "execution_count": null,
      "outputs": []
    },
    {
      "cell_type": "code",
      "metadata": {
        "id": "DHElSaP52DoD"
      },
      "source": [
        "while True:\n",
        "    row_inp = input('Choose a passenger trip from 1 to 10,000, or 0 to quit  ')\n",
        "    print()\n",
        "    print()\n",
        "    if not row_inp.isnumeric():\n",
        "        continue\n",
        "    row = int(row_inp)\n",
        "    if row == 0:\n",
        "        break\n",
        "    exp = explainer.explain_instance(\n",
        "        data_row=X_test.iloc[row], \n",
        "        predict_fn=final.model.predict_proba)\n",
        "    exp.show_in_notebook(show_table=True)\n",
        "    time.sleep(2)\n",
        "    print()\n",
        "    print()"
      ],
      "execution_count": null,
      "outputs": []
    },
    {
      "cell_type": "markdown",
      "metadata": {
        "id": "Tow1AMYUILZZ"
      },
      "source": [
        "## Bonus Section : customized voter with dynamic weights"
      ]
    },
    {
      "cell_type": "markdown",
      "metadata": {
        "id": "cVxC90RAMIJm"
      },
      "source": [
        "#### Take our best classifiers so far, and per each value, decide which model is better to use, according to its K-nearest-neighbors"
      ]
    },
    {
      "cell_type": "code",
      "metadata": {
        "id": "58yGSW5ay4pd"
      },
      "source": [
        "class ComparingVoter():\n",
        "    def __init__(self, estimators, selected_cols):\n",
        "        self.estimators = estimators\n",
        "        self.knn_models = []\n",
        "        self.selected_cols = selected_cols\n",
        "    \n",
        "    def fit(self, X, y):\n",
        "        for estimator in self.estimators:\n",
        "            # create y_est = the prediction score, used as a new label by the KNN regressor\n",
        "            y_est = pd.DataFrame(estimator.predict_proba(X))[1]\n",
        "            y_est.index = X.index\n",
        "            y_est = pd.concat([y_est, y], axis=1)\n",
        "            y_est.columns = ['pred', 'label']\n",
        "            y_est = y_est.assign(score = np.where(y_est.label == 1, y_est.pred, 1-y_est.pred))[['score']]\n",
        "\n",
        "            # fit and optimize the KNN regressor\n",
        "            knn = KNeighborsRegressor()\n",
        "            params_dist = {'n_neighbors': list(range(1,50)), 'weights': ['uniform', 'distance'], 'p': [1, 2]}\n",
        "            grid = RandomizedSearchCV(knn, param_distributions=params_dist, cv=5, n_iter=10, n_jobs=-1, random_state=1)\n",
        "            grid.fit(X[self.selected_cols], y_est)\n",
        "            knn = grid.best_estimator_\n",
        "            self.knn_models.append(knn)\n",
        "            cv = RepeatedKFold(n_splits=5, n_repeats=5, random_state=1)\n",
        "            scores = cross_val_score(estimator=knn , X=X, y=y_est, scoring='neg_mean_squared_error', cv=cv, n_jobs=-1)\n",
        "            print(f'Best KNN params: {grid.best_params_} with cross validation score {scores.mean() :.2f} +/-{scores.std() :.2f}')\n",
        "        return self\n",
        "\n",
        "    def predict_(self, X):\n",
        "        knn_probs = [knn.predict(X[self.selected_cols]) for knn in self.knn_models]\n",
        "        weights = [knn_prob / sum(knn_probs) for knn_prob in knn_probs]\n",
        "        probs = [estimator.predict_proba(X) for estimator in self.estimators]\n",
        "        probs = [[p[1] for p in prob] for prob in probs]\n",
        "        pred=[]\n",
        "        for i in range(len(X)):\n",
        "            prob = 0\n",
        "            for est in range(len(self.estimators)):\n",
        "                prob += weights[est][i][0] * probs[est][i]\n",
        "            pred.append(prob)\n",
        "        return pred\n",
        "\n",
        "    def predict(self, X):\n",
        "        return [round(x) for x in self.predict_(X)]\n",
        "\n",
        "    def predict_proba(self, X):\n",
        "        proba = pd.DataFrame(self.predict_(X))\n",
        "        proba.insert(0, '1', 1-proba.iloc[:,0])\n",
        "        proba.columns=[0, 1]\n",
        "        return proba.values"
      ],
      "execution_count": null,
      "outputs": []
    },
    {
      "cell_type": "markdown",
      "metadata": {
        "id": "m0qhy-20HMI6"
      },
      "source": [
        "Build our comparing-voter using the already-fitted XGBoost and CATBoost classifiers\n"
      ]
    },
    {
      "cell_type": "code",
      "metadata": {
        "id": "PFoURtI7B03b"
      },
      "source": [
        "selected_models = [get_clf('xgboost').model.fit(X_train,y_train), get_clf('catboost').model.fit(X_train,y_train)]\n",
        "selected_cols = ['online_boarding', 'travel_type', 'inflight_wifi', 'customer_type', 'travel_class']\n",
        "c_voter_clf = ComparingVoter(selected_models, selected_cols)\n",
        "c_voter_clf.fit(X_train, y_train);"
      ],
      "execution_count": null,
      "outputs": []
    },
    {
      "cell_type": "markdown",
      "metadata": {
        "id": "8pLlwTcQHRbN"
      },
      "source": [
        "Check the classification report of the new voter on train and test"
      ]
    },
    {
      "cell_type": "code",
      "metadata": {
        "id": "X2ZPPkGPzk3o"
      },
      "source": [
        "print('Train\\n')\n",
        "print(classification_report(y_train, c_voter_clf.predict(X_train)))\n",
        "print('\\nTest\\n')\n",
        "print(classification_report(y_test, c_voter_clf.predict(X_test)))"
      ],
      "execution_count": null,
      "outputs": []
    },
    {
      "cell_type": "markdown",
      "metadata": {
        "id": "4zrmyTaqGTf1"
      },
      "source": [
        "## Additional Ideas\n",
        "\n",
        "1. Apply pruning methods\n",
        "2. Add run time to model selection criteria\n",
        "3. Compare models with and without features selection and removing correlations\n",
        "4. Predict values of questions without answers\n",
        "5. Try models with/without feature selection & reduction"
      ]
    }
  ]
}